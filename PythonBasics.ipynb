{
 "cells": [
  {
   "cell_type": "code",
   "execution_count": 1,
   "id": "c91d3186",
   "metadata": {},
   "outputs": [
    {
     "data": {
      "text/plain": [
       "int"
      ]
     },
     "execution_count": 1,
     "metadata": {},
     "output_type": "execute_result"
    }
   ],
   "source": [
    "#Integer Variable Declaration\n",
    "x = 100\n",
    "type(x)"
   ]
  },
  {
   "cell_type": "code",
   "execution_count": 2,
   "id": "d44d8ea8",
   "metadata": {},
   "outputs": [
    {
     "name": "stdout",
     "output_type": "stream",
     "text": [
      "200\n"
     ]
    }
   ],
   "source": [
    "# Printing Values\n",
    "print(x*2)"
   ]
  },
  {
   "cell_type": "code",
   "execution_count": 3,
   "id": "1d006cb2",
   "metadata": {},
   "outputs": [
    {
     "data": {
      "text/plain": [
       "str"
      ]
     },
     "execution_count": 3,
     "metadata": {},
     "output_type": "execute_result"
    }
   ],
   "source": [
    "#String Variable Declaration\n",
    "name = \"Nidhi\"\n",
    "type(name)"
   ]
  },
  {
   "cell_type": "code",
   "execution_count": 7,
   "id": "c01f85f4",
   "metadata": {},
   "outputs": [
    {
     "data": {
      "text/plain": [
       "list"
      ]
     },
     "execution_count": 7,
     "metadata": {},
     "output_type": "execute_result"
    }
   ],
   "source": [
    "## List Declaration, can be of different data type\n",
    "## List is mutable\n",
    "list_ex = [1, \"F\", 5]\n",
    "type(list_ex)"
   ]
  },
  {
   "cell_type": "code",
   "execution_count": 9,
   "id": "27fb30eb",
   "metadata": {},
   "outputs": [
    {
     "name": "stdout",
     "output_type": "stream",
     "text": [
      "[4, 'F', 5]\n"
     ]
    }
   ],
   "source": [
    "## We can update value of List item\n",
    "list_ex[0] = 4\n",
    "print(list_ex)"
   ]
  },
  {
   "cell_type": "code",
   "execution_count": 8,
   "id": "bbc2b615",
   "metadata": {},
   "outputs": [
    {
     "name": "stdout",
     "output_type": "stream",
     "text": [
      "5\n"
     ]
    }
   ],
   "source": [
    "## To get the list values\n",
    "print(list_ex[2])"
   ]
  },
  {
   "cell_type": "code",
   "execution_count": 11,
   "id": "6bb14c00",
   "metadata": {},
   "outputs": [
    {
     "data": {
      "text/plain": [
       "tuple"
      ]
     },
     "execution_count": 11,
     "metadata": {},
     "output_type": "execute_result"
    }
   ],
   "source": [
    "## Tuple variable declaration\n",
    "## Tuples are immutable\n",
    "## Multi data types allowed\n",
    "tuple_ex = (1,2,\"d\")\n",
    "type(tuple_ex)"
   ]
  },
  {
   "cell_type": "code",
   "execution_count": 12,
   "id": "ab09687b",
   "metadata": {},
   "outputs": [
    {
     "ename": "TypeError",
     "evalue": "'tuple' object does not support item assignment",
     "output_type": "error",
     "traceback": [
      "\u001b[0;31m---------------------------------------------------------------------------\u001b[0m",
      "\u001b[0;31mTypeError\u001b[0m                                 Traceback (most recent call last)",
      "Cell \u001b[0;32mIn[12], line 2\u001b[0m\n\u001b[1;32m      1\u001b[0m \u001b[38;5;66;03m## Since immutable, hence will fail\u001b[39;00m\n\u001b[0;32m----> 2\u001b[0m tuple_ex[\u001b[38;5;241m0\u001b[39m] \u001b[38;5;241m=\u001b[39m \u001b[38;5;241m2\u001b[39m\n",
      "\u001b[0;31mTypeError\u001b[0m: 'tuple' object does not support item assignment"
     ]
    }
   ],
   "source": [
    "## Since immutable, hence will fail\n",
    "tuple_ex[0] = 2"
   ]
  },
  {
   "cell_type": "code",
   "execution_count": 17,
   "id": "b3c90856",
   "metadata": {},
   "outputs": [
    {
     "data": {
      "text/plain": [
       "_io.TextIOWrapper"
      ]
     },
     "execution_count": 17,
     "metadata": {},
     "output_type": "execute_result"
    }
   ],
   "source": [
    "## File Pointers\n",
    "## When we need to perform operations on file, we can assign to variable and reuse it.\n",
    "\n",
    "v_file = open('PythonBasics.ipynb', 'r')\n",
    "type(v_file)"
   ]
  },
  {
   "cell_type": "code",
   "execution_count": 18,
   "id": "7067414f",
   "metadata": {},
   "outputs": [
    {
     "name": "stdout",
     "output_type": "stream",
     "text": [
      "2\n"
     ]
    }
   ],
   "source": [
    "## Ways to Assign values to variables\n",
    "## Number of variabeles and value must match\n",
    "\n",
    "(a,b,c) = (2,3,4)\n",
    "print(a)"
   ]
  },
  {
   "cell_type": "code",
   "execution_count": 19,
   "id": "825b8e19",
   "metadata": {},
   "outputs": [
    {
     "name": "stdout",
     "output_type": "stream",
     "text": [
      "400\n"
     ]
    }
   ],
   "source": [
    "f=d=s=e=w=400\n",
    "print(w)"
   ]
  },
  {
   "cell_type": "code",
   "execution_count": 20,
   "id": "b5b9738b",
   "metadata": {},
   "outputs": [],
   "source": [
    "#Rules to name variables\n",
    "#### Variable name must begin with alphabet or underscore\n",
    "#### We can not have any special char except underscore\n",
    "#### Case sensitive  "
   ]
  },
  {
   "cell_type": "code",
   "execution_count": 21,
   "id": "e820dd29",
   "metadata": {},
   "outputs": [],
   "source": [
    "##Operators in Python"
   ]
  },
  {
   "cell_type": "markdown",
   "id": "bf5c4e93",
   "metadata": {},
   "source": [
    "# Operations on Integer Variable\n"
   ]
  },
  {
   "cell_type": "markdown",
   "id": "47a49e43",
   "metadata": {},
   "source": [
    "## Addition"
   ]
  },
  {
   "cell_type": "code",
   "execution_count": 22,
   "id": "dce6ed3e",
   "metadata": {},
   "outputs": [
    {
     "name": "stdout",
     "output_type": "stream",
     "text": [
      "11\n"
     ]
    }
   ],
   "source": [
    "x = 4\n",
    "y = 7\n",
    "v_add = x + y\n",
    "print(v_add\n",
    ")"
   ]
  },
  {
   "cell_type": "markdown",
   "id": "4479e998",
   "metadata": {},
   "source": [
    "## Subtraction"
   ]
  },
  {
   "cell_type": "code",
   "execution_count": 23,
   "id": "18709f86",
   "metadata": {},
   "outputs": [
    {
     "name": "stdout",
     "output_type": "stream",
     "text": [
      "-3\n"
     ]
    }
   ],
   "source": [
    "x = 4\n",
    "y = 7\n",
    "v_sub = x - y\n",
    "print(v_sub)"
   ]
  },
  {
   "cell_type": "markdown",
   "id": "a52cd42b",
   "metadata": {},
   "source": [
    "## Divide"
   ]
  },
  {
   "cell_type": "code",
   "execution_count": 24,
   "id": "7a38cc02",
   "metadata": {},
   "outputs": [
    {
     "name": "stdout",
     "output_type": "stream",
     "text": [
      "0.5714285714285714\n"
     ]
    }
   ],
   "source": [
    "x = 4\n",
    "y = 7\n",
    "v_div = x / y\n",
    "print(v_div)"
   ]
  },
  {
   "cell_type": "markdown",
   "id": "3dd31894",
   "metadata": {},
   "source": [
    "## Multiply"
   ]
  },
  {
   "cell_type": "code",
   "execution_count": 25,
   "id": "126c9e34",
   "metadata": {},
   "outputs": [
    {
     "name": "stdout",
     "output_type": "stream",
     "text": [
      "11\n"
     ]
    }
   ],
   "source": [
    "x = 4\n",
    "y = 7\n",
    "v_mul = x + y\n",
    "print(v_mul)"
   ]
  },
  {
   "cell_type": "markdown",
   "id": "4e4cd7c8",
   "metadata": {},
   "source": [
    "## Division with Roundup"
   ]
  },
  {
   "cell_type": "code",
   "execution_count": 26,
   "id": "75778c58",
   "metadata": {},
   "outputs": [
    {
     "name": "stdout",
     "output_type": "stream",
     "text": [
      "0\n"
     ]
    }
   ],
   "source": [
    "x = 4\n",
    "y = 7\n",
    "v_rdiv = x // y\n",
    "print(v_rdiv)"
   ]
  },
  {
   "cell_type": "markdown",
   "id": "87c96eb0",
   "metadata": {},
   "source": [
    "# String Operations"
   ]
  },
  {
   "cell_type": "markdown",
   "id": "015f6370",
   "metadata": {},
   "source": [
    "## Iterating thru string values"
   ]
  },
  {
   "cell_type": "code",
   "execution_count": 27,
   "id": "7a6ae1ac",
   "metadata": {},
   "outputs": [],
   "source": [
    "str1 = \"Hello! You are learning Python\""
   ]
  },
  {
   "cell_type": "code",
   "execution_count": 29,
   "id": "0c0b57d9",
   "metadata": {},
   "outputs": [
    {
     "name": "stdout",
     "output_type": "stream",
     "text": [
      "Y\n"
     ]
    }
   ],
   "source": [
    "## Printing the alphabet at 5th position.\n",
    "## Index starts from 0, hence n-1 is the position\n",
    "## SPace is also counted \n",
    "print(str1[7])"
   ]
  },
  {
   "cell_type": "code",
   "execution_count": 30,
   "id": "640c341b",
   "metadata": {},
   "outputs": [
    {
     "name": "stdout",
     "output_type": "stream",
     "text": [
      "o! You are learn\n"
     ]
    }
   ],
   "source": [
    "## Getting a sub string with range\n",
    "a = 4\n",
    "b = 20\n",
    "print(str1[4:20])"
   ]
  },
  {
   "cell_type": "markdown",
   "id": "bfa8b74c",
   "metadata": {},
   "source": [
    "## Concatenation of Strings"
   ]
  },
  {
   "cell_type": "code",
   "execution_count": 31,
   "id": "db791c0b",
   "metadata": {},
   "outputs": [],
   "source": [
    "str1 = \"Tum se mil ke\""
   ]
  },
  {
   "cell_type": "code",
   "execution_count": 37,
   "id": "8525e352",
   "metadata": {},
   "outputs": [],
   "source": [
    "str2 = \"aisa laga, tumese mil ke\""
   ]
  },
  {
   "cell_type": "code",
   "execution_count": 38,
   "id": "028a5267",
   "metadata": {},
   "outputs": [
    {
     "name": "stdout",
     "output_type": "stream",
     "text": [
      "Tum se mil ke aisa laga, tumese mil ke\n"
     ]
    }
   ],
   "source": [
    "print(str1 + \" \" + str2)"
   ]
  },
  {
   "cell_type": "code",
   "execution_count": null,
   "id": "ce5f80fc",
   "metadata": {},
   "outputs": [],
   "source": []
  }
 ],
 "metadata": {
  "kernelspec": {
   "display_name": "Python 3 (ipykernel)",
   "language": "python",
   "name": "python3"
  },
  "language_info": {
   "codemirror_mode": {
    "name": "ipython",
    "version": 3
   },
   "file_extension": ".py",
   "mimetype": "text/x-python",
   "name": "python",
   "nbconvert_exporter": "python",
   "pygments_lexer": "ipython3",
   "version": "3.9.18"
  }
 },
 "nbformat": 4,
 "nbformat_minor": 5
}
